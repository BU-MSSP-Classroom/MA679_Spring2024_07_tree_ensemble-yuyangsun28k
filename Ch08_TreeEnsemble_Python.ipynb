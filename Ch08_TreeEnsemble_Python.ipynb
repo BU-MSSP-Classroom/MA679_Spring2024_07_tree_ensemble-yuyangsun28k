{
 "cells": [
  {
   "cell_type": "markdown",
   "id": "d44e3904",
   "metadata": {},
   "source": [
    "# Class Workbook {.tabset .tabset-fade .tabset-pills}"
   ]
  },
  {
   "cell_type": "markdown",
   "id": "a139ed8f",
   "metadata": {},
   "source": [
    "## In class activity"
   ]
  },
  {
   "cell_type": "code",
   "execution_count": 6,
   "id": "ec6c3ae3",
   "metadata": {
    "kernel": "Python3",
    "tags": [
     "report_cell"
    ]
   },
   "outputs": [],
   "source": [
    "import numpy as np\n",
    "import pandas as pd\n",
    "#import math\n",
    "from matplotlib.pyplot import subplots\n",
    "#import statsmodels.api as sm\n",
    "from plotnine import *\n",
    "#import plotly.express as px\n",
    "#import statsmodels.formula.api as sm\n",
    "#import ISLP as islp"
   ]
  },
  {
   "cell_type": "markdown",
   "id": "a006f7cf",
   "metadata": {},
   "source": [
    "### Bank Credit Data\n",
    "\n",
    "Please take a look at the following credit scoring data set. This data was used to predict defaults on consumer loans. The data contains  1000 rows and 21 variables:"
   ]
  },
  {
   "cell_type": "code",
   "execution_count": 7,
   "id": "dc73a6c7",
   "metadata": {
    "kernel": "Python3",
    "tags": [
     "report_cell"
    ]
   },
   "outputs": [
    {
     "data": {
      "text/html": [
       "<div>\n",
       "<style scoped>\n",
       "    .dataframe tbody tr th:only-of-type {\n",
       "        vertical-align: middle;\n",
       "    }\n",
       "\n",
       "    .dataframe tbody tr th {\n",
       "        vertical-align: top;\n",
       "    }\n",
       "\n",
       "    .dataframe thead th {\n",
       "        text-align: right;\n",
       "    }\n",
       "</style>\n",
       "<table border=\"1\" class=\"dataframe\">\n",
       "  <thead>\n",
       "    <tr style=\"text-align: right;\">\n",
       "      <th></th>\n",
       "      <th>Unnamed: 0</th>\n",
       "      <th>Account_status</th>\n",
       "      <th>Duration</th>\n",
       "      <th>Credit_history</th>\n",
       "      <th>Purpose</th>\n",
       "      <th>Amount</th>\n",
       "      <th>Savings</th>\n",
       "      <th>Employment</th>\n",
       "      <th>Installment_rate</th>\n",
       "      <th>Guarantors</th>\n",
       "      <th>...</th>\n",
       "      <th>Age</th>\n",
       "      <th>Other_plans</th>\n",
       "      <th>Housing</th>\n",
       "      <th>Num_credits</th>\n",
       "      <th>Job</th>\n",
       "      <th>People_maintenance</th>\n",
       "      <th>Phone</th>\n",
       "      <th>Foreign</th>\n",
       "      <th>BAD</th>\n",
       "      <th>Female</th>\n",
       "    </tr>\n",
       "  </thead>\n",
       "  <tbody>\n",
       "    <tr>\n",
       "      <th>0</th>\n",
       "      <td>1</td>\n",
       "      <td>&lt; 0 DM</td>\n",
       "      <td>6</td>\n",
       "      <td>critical account / other credits existing (not...</td>\n",
       "      <td>radio / television</td>\n",
       "      <td>1169</td>\n",
       "      <td>unknown / no savings account</td>\n",
       "      <td>&gt;= 7 years</td>\n",
       "      <td>4</td>\n",
       "      <td>none</td>\n",
       "      <td>...</td>\n",
       "      <td>67</td>\n",
       "      <td>none</td>\n",
       "      <td>A152</td>\n",
       "      <td>2</td>\n",
       "      <td>skilled employee / official</td>\n",
       "      <td>1</td>\n",
       "      <td>yes, registered under the customers name</td>\n",
       "      <td>yes</td>\n",
       "      <td>GOOD</td>\n",
       "      <td>Female</td>\n",
       "    </tr>\n",
       "    <tr>\n",
       "      <th>1</th>\n",
       "      <td>2</td>\n",
       "      <td>0 &lt; ... &lt;  200 DM</td>\n",
       "      <td>48</td>\n",
       "      <td>existing credits paid back duly till now</td>\n",
       "      <td>radio / television</td>\n",
       "      <td>5951</td>\n",
       "      <td>&lt; 100 DM</td>\n",
       "      <td>1  &lt;= ... &lt; 4 years</td>\n",
       "      <td>2</td>\n",
       "      <td>none</td>\n",
       "      <td>...</td>\n",
       "      <td>22</td>\n",
       "      <td>none</td>\n",
       "      <td>A152</td>\n",
       "      <td>1</td>\n",
       "      <td>skilled employee / official</td>\n",
       "      <td>1</td>\n",
       "      <td>none</td>\n",
       "      <td>yes</td>\n",
       "      <td>BAD</td>\n",
       "      <td>Male</td>\n",
       "    </tr>\n",
       "    <tr>\n",
       "      <th>2</th>\n",
       "      <td>3</td>\n",
       "      <td>no checking account</td>\n",
       "      <td>12</td>\n",
       "      <td>critical account / other credits existing (not...</td>\n",
       "      <td>education</td>\n",
       "      <td>2096</td>\n",
       "      <td>&lt; 100 DM</td>\n",
       "      <td>4  &lt;= ... &lt; 7 years</td>\n",
       "      <td>2</td>\n",
       "      <td>none</td>\n",
       "      <td>...</td>\n",
       "      <td>49</td>\n",
       "      <td>none</td>\n",
       "      <td>A152</td>\n",
       "      <td>1</td>\n",
       "      <td>unskilled - resident</td>\n",
       "      <td>2</td>\n",
       "      <td>none</td>\n",
       "      <td>yes</td>\n",
       "      <td>GOOD</td>\n",
       "      <td>Female</td>\n",
       "    </tr>\n",
       "    <tr>\n",
       "      <th>3</th>\n",
       "      <td>4</td>\n",
       "      <td>&lt; 0 DM</td>\n",
       "      <td>42</td>\n",
       "      <td>existing credits paid back duly till now</td>\n",
       "      <td>furniture / equipment</td>\n",
       "      <td>7882</td>\n",
       "      <td>&lt; 100 DM</td>\n",
       "      <td>4  &lt;= ... &lt; 7 years</td>\n",
       "      <td>2</td>\n",
       "      <td>guarantor</td>\n",
       "      <td>...</td>\n",
       "      <td>45</td>\n",
       "      <td>none</td>\n",
       "      <td>A153</td>\n",
       "      <td>1</td>\n",
       "      <td>skilled employee / official</td>\n",
       "      <td>2</td>\n",
       "      <td>none</td>\n",
       "      <td>yes</td>\n",
       "      <td>GOOD</td>\n",
       "      <td>Female</td>\n",
       "    </tr>\n",
       "    <tr>\n",
       "      <th>4</th>\n",
       "      <td>5</td>\n",
       "      <td>&lt; 0 DM</td>\n",
       "      <td>24</td>\n",
       "      <td>delay in paying off in the past</td>\n",
       "      <td>car (new)</td>\n",
       "      <td>4870</td>\n",
       "      <td>&lt; 100 DM</td>\n",
       "      <td>1  &lt;= ... &lt; 4 years</td>\n",
       "      <td>3</td>\n",
       "      <td>none</td>\n",
       "      <td>...</td>\n",
       "      <td>53</td>\n",
       "      <td>none</td>\n",
       "      <td>A153</td>\n",
       "      <td>2</td>\n",
       "      <td>skilled employee / official</td>\n",
       "      <td>2</td>\n",
       "      <td>none</td>\n",
       "      <td>yes</td>\n",
       "      <td>BAD</td>\n",
       "      <td>Female</td>\n",
       "    </tr>\n",
       "  </tbody>\n",
       "</table>\n",
       "<p>5 rows × 22 columns</p>\n",
       "</div>"
      ],
      "text/plain": [
       "   Unnamed: 0       Account_status  Duration  \\\n",
       "0           1               < 0 DM         6   \n",
       "1           2    0 < ... <  200 DM        48   \n",
       "2           3  no checking account        12   \n",
       "3           4               < 0 DM        42   \n",
       "4           5               < 0 DM        24   \n",
       "\n",
       "                                      Credit_history                Purpose  \\\n",
       "0  critical account / other credits existing (not...     radio / television   \n",
       "1           existing credits paid back duly till now     radio / television   \n",
       "2  critical account / other credits existing (not...              education   \n",
       "3           existing credits paid back duly till now  furniture / equipment   \n",
       "4                    delay in paying off in the past              car (new)   \n",
       "\n",
       "   Amount                       Savings           Employment  \\\n",
       "0    1169  unknown / no savings account           >= 7 years   \n",
       "1    5951                      < 100 DM  1  <= ... < 4 years   \n",
       "2    2096                      < 100 DM  4  <= ... < 7 years   \n",
       "3    7882                      < 100 DM  4  <= ... < 7 years   \n",
       "4    4870                      < 100 DM  1  <= ... < 4 years   \n",
       "\n",
       "   Installment_rate Guarantors  ...  Age Other_plans  Housing Num_credits  \\\n",
       "0                 4       none  ...   67        none     A152           2   \n",
       "1                 2       none  ...   22        none     A152           1   \n",
       "2                 2       none  ...   49        none     A152           1   \n",
       "3                 2  guarantor  ...   45        none     A153           1   \n",
       "4                 3       none  ...   53        none     A153           2   \n",
       "\n",
       "                           Job  People_maintenance  \\\n",
       "0  skilled employee / official                   1   \n",
       "1  skilled employee / official                   1   \n",
       "2         unskilled - resident                   2   \n",
       "3  skilled employee / official                   2   \n",
       "4  skilled employee / official                   2   \n",
       "\n",
       "                                      Phone  Foreign   BAD  Female  \n",
       "0  yes, registered under the customers name      yes  GOOD  Female  \n",
       "1                                      none      yes   BAD    Male  \n",
       "2                                      none      yes  GOOD  Female  \n",
       "3                                      none      yes  GOOD  Female  \n",
       "4                                      none      yes   BAD  Female  \n",
       "\n",
       "[5 rows x 22 columns]"
      ]
     },
     "execution_count": 7,
     "metadata": {},
     "output_type": "execute_result"
    }
   ],
   "source": [
    "credit_data=pd.read_csv(\"credit_data.csv\")\n",
    "credit_data.head()"
   ]
  },
  {
   "cell_type": "markdown",
   "id": "aeb90aeb",
   "metadata": {},
   "source": [
    "Here are the variables.\n",
    "\n",
    "- BAD: factor, GOOD/BAD for whether a customer has defaulted on a loan. This is the outcome or target in this dataset\n",
    "- Account_status: factor, status of existing checking account\n",
    "- Duration: numeric, loan duration in month\n",
    "- Credit_history: factor, previous credit history\n",
    "- Purpose: factor, loan purpose\n",
    "- Amount: numeric, credit amount\n",
    "- Savings: factor, savings account/bonds\n",
    "- Employment: factor, present employment since\n",
    "- Installment_rate: numeric, installment rate in percentage of disposable income\n",
    "- Guarantors: factor, other debtors / guarantors\n",
    "- Resident_since: factor, present residence since\n",
    "- Property: factor, property\n",
    "- Age: numeric, age in years\n",
    "- Other_plans: factor, other installment plans (bank ,none, stores )\n",
    "- Housing: factor, housing\n",
    "- Num_credits: numeric, Number of existing credits at this bank\n",
    "- Job: factor, job( management / self-employed / highly qualified employee / officer; skilled employee / official ; unemployed / unskilled - non-resident ; unskilled - resident )\n",
    "- People_maintenance: numeric, number of people being liable to provide maintenance for\n",
    "- Phone: factor, telephone (none ; yes, registered under the customers name )\n",
    "- Foreign: factor, foreign worker ( no ; yes )\n",
    "- Female: factor, female/male for gender\n",
    "\n",
    "Create a predictive model that predicts the outcome `BAD`."
   ]
  },
  {
   "cell_type": "code",
   "execution_count": 17,
   "id": "5abe777b",
   "metadata": {
    "kernel": "Python3",
    "tags": [
     "report_cell"
    ]
   },
   "outputs": [],
   "source": [
    "from sklearn.model_selection import train_test_split\n",
    "\n",
    "# Change Data Format\n",
    "credit_data['BAD'] = credit_data['BAD'].map({'GOOD': 0, 'BAD': 1})\n",
    "categorical_vars = ['Account_status', 'Credit_history', 'Purpose', 'Savings', 'Employment', \n",
    "                     'Guarantors', 'Resident_since', 'Property', 'Other_plans', 'Housing', \n",
    "                     'Job', 'Phone', 'Foreign', 'Female']\n",
    "credit_data = pd.get_dummies(credit_data, columns=categorical_vars, drop_first=True)\n",
    "X = credit_data.drop('BAD', axis=1)\n",
    "y = credit_data['BAD']\n",
    "\n",
    "# split the data\n",
    "X_train, X_test, y_train, y_test = train_test_split(credit_data.loc[:,credit_data.columns != \"BAD\"], credit_data.loc[:,\"BAD\"], test_size=0.33, random_state=42)\n",
    "\n",
    "credit_data_train  = pd.concat([X_train, y_train], axis=1)\n",
    "credit_data_valid  = pd.concat([X_test, y_test], axis=1)"
   ]
  },
  {
   "cell_type": "code",
   "execution_count": 21,
   "id": "2e05fc0f",
   "metadata": {},
   "outputs": [
    {
     "name": "stdout",
     "output_type": "stream",
     "text": [
      "Optimization terminated successfully.\n",
      "         Current function value: 0.447653\n",
      "         Iterations 7\n",
      "                           Logit Regression Results                           \n",
      "==============================================================================\n",
      "Dep. Variable:                    BAD   No. Observations:                  670\n",
      "Model:                          Logit   Df Residuals:                      620\n",
      "Method:                           MLE   Df Model:                           49\n",
      "Date:                Sat, 24 Feb 2024   Pseudo R-squ.:                  0.2641\n",
      "Time:                        13:27:12   Log-Likelihood:                -299.93\n",
      "converged:                       True   LL-Null:                       -407.57\n",
      "Covariance Type:            nonrobust   LLR p-value:                 1.019e-22\n",
      "===============================================================================================================================================\n",
      "                                                                                  coef    std err          z      P>|z|      [0.025      0.975]\n",
      "-----------------------------------------------------------------------------------------------------------------------------------------------\n",
      "const                                                                          -2.1519      1.387     -1.552      0.121      -4.870       0.566\n",
      "Unnamed: 0                                                                  -8.849e-05      0.000     -0.242      0.809      -0.001       0.001\n",
      "Duration                                                                        0.0235      0.012      2.035      0.042       0.001       0.046\n",
      "Amount                                                                          0.0001   5.21e-05      2.312      0.021    1.83e-05       0.000\n",
      "Installment_rate                                                                0.3171      0.109      2.918      0.004       0.104       0.530\n",
      "Age                                                                            -0.0256      0.012     -2.148      0.032      -0.049      -0.002\n",
      "Num_credits                                                                     0.4011      0.235      1.707      0.088      -0.060       0.862\n",
      "People_maintenance                                                              0.1097      0.322      0.341      0.733      -0.520       0.740\n",
      "Account_status_< 0 DM                                                           0.2369      0.274      0.863      0.388      -0.301       0.775\n",
      "Account_status_>= 200 DM                                                       -0.9344      0.492     -1.899      0.058      -1.899       0.030\n",
      "Account_status_no checking account                                             -1.3992      0.285     -4.917      0.000      -1.957      -0.841\n",
      "Credit_history_critical account / other credits existing (not at this bank)    -1.4472      0.547     -2.647      0.008      -2.519      -0.376\n",
      "Credit_history_delay in paying off in the past                                 -1.1759      0.598     -1.967      0.049      -2.348      -0.004\n",
      "Credit_history_existing credits paid back duly till now                        -0.3201      0.487     -0.657      0.511      -1.274       0.634\n",
      "Credit_history_no credits taken / all credits paid back duly                   -0.1641      0.665     -0.247      0.805      -1.467       1.139\n",
      "Purpose_car (new)                                                               0.4571      0.410      1.114      0.265      -0.347       1.261\n",
      "Purpose_car (used)                                                             -1.1011      0.536     -2.054      0.040      -2.152      -0.050\n",
      "Purpose_domestic appliances                                                    -0.0389      0.853     -0.046      0.964      -1.711       1.633\n",
      "Purpose_education                                                               0.7963      0.605      1.316      0.188      -0.389       1.982\n",
      "Purpose_furniture / equipment                                                  -0.5034      0.439     -1.146      0.252      -1.364       0.358\n",
      "Purpose_others                                                                 -0.8146      0.972     -0.838      0.402      -2.719       1.090\n",
      "Purpose_radio / television                                                     -0.5259      0.409     -1.287      0.198      -1.327       0.275\n",
      "Purpose_repairs                                                                -0.1077      0.703     -0.153      0.878      -1.485       1.269\n",
      "Purpose_retrainin                                                              -1.1537      1.213     -0.951      0.342      -3.531       1.224\n",
      "Savings_500 <= ... < 1000 DM                                                   -0.1586      0.572     -0.277      0.782      -1.280       0.963\n",
      "Savings_< 100 DM                                                                0.4133      0.357      1.158      0.247      -0.286       1.113\n",
      "Savings_>= 1000 DM                                                             -0.7210      0.705     -1.023      0.306      -2.102       0.660\n",
      "Savings_unknown / no savings account                                           -0.4463      0.427     -1.046      0.295      -1.282       0.390\n",
      "Employment_4  <= ... < 7 years                                                 -0.3207      0.327     -0.981      0.327      -0.961       0.320\n",
      "Employment_< 1 year                                                             0.2802      0.311      0.901      0.368      -0.330       0.890\n",
      "Employment_>= 7 years                                                          -0.2066      0.322     -0.642      0.521      -0.837       0.424\n",
      "Employment_unemployed                                                          -0.0754      0.512     -0.147      0.883      -1.078       0.928\n",
      "Guarantors_guarantor                                                           -0.6900      0.666     -1.035      0.300      -1.996       0.616\n",
      "Guarantors_none                                                                 0.0225      0.499      0.045      0.964      -0.955       1.000\n",
      "Resident_since_2                                                                0.6754      0.362      1.867      0.062      -0.034       1.384\n",
      "Resident_since_3                                                                0.3866      0.417      0.927      0.354      -0.431       1.204\n",
      "Resident_since_4                                                                0.2602      0.372      0.700      0.484      -0.469       0.989\n",
      "Property_car or other                                                          -0.1905      0.287     -0.664      0.507      -0.753       0.372\n",
      "Property_real estate                                                           -0.3519      0.311     -1.131      0.258      -0.962       0.258\n",
      "Property_unknown / no property                                                  0.3381      0.522      0.648      0.517      -0.684       1.361\n",
      "Other_plans_none                                                               -0.5676      0.300     -1.892      0.058      -1.156       0.020\n",
      "Other_plans_stores                                                             -0.3808      0.587     -0.649      0.516      -1.531       0.770\n",
      "Housing_A152                                                                   -0.4310      0.295     -1.460      0.144      -1.010       0.147\n",
      "Housing_A153                                                                   -0.1959      0.604     -0.325      0.745      -1.379       0.987\n",
      "Job_skilled employee / official                                                 0.0400      0.340      0.117      0.906      -0.627       0.707\n",
      "Job_unemployed / unskilled  - non-resident                                     -0.4427      0.828     -0.535      0.593      -2.066       1.181\n",
      "Job_unskilled - resident                                                       -0.0723      0.430     -0.168      0.867      -0.915       0.771\n",
      "Phone_yes, registered under the customers name                                 -0.2828      0.247     -1.146      0.252      -0.766       0.201\n",
      "Foreign_yes                                                                     1.3399      0.735      1.823      0.068      -0.100       2.780\n",
      "Female_Male                                                                     0.3640      0.241      1.508      0.132      -0.109       0.837\n",
      "===============================================================================================================================================\n"
     ]
    }
   ],
   "source": [
    "import statsmodels.api as sm\n",
    "\n",
    "X_train_const = sm.add_constant(X_train)\n",
    "X_test_const = sm.add_constant(X_test)\n",
    "\n",
    "# Logit Model\n",
    "model = sm.Logit(y_train, X_train_const).fit()\n",
    "print(model.summary())"
   ]
  },
  {
   "cell_type": "markdown",
   "id": "c47e7826",
   "metadata": {},
   "source": [
    "Evaluate your model performance.  What criteria do you think will be appropriate."
   ]
  },
  {
   "cell_type": "code",
   "execution_count": 23,
   "id": "4cc8f5cd",
   "metadata": {
    "kernel": "Python3",
    "tags": [
     "report_cell"
    ]
   },
   "outputs": [
    {
     "name": "stdout",
     "output_type": "stream",
     "text": [
      "\n",
      "Accuracy: 0.7787878787878788\n",
      "Precision: 0.6944444444444444\n",
      "Recall: 0.49504950495049505\n",
      "F1 Score: 0.5780346820809248\n",
      "Confusion Matrix:\n",
      " [[207  22]\n",
      " [ 51  50]]\n"
     ]
    }
   ],
   "source": [
    "from sklearn.metrics import accuracy_score, precision_score, recall_score, f1_score, confusion_matrix\n",
    "\n",
    "\n",
    "y_pred_proba = model.predict(X_test_const)\n",
    "y_pred = [1 if prob > 0.5 else 0 for prob in y_pred_proba]\n",
    "\n",
    "accuracy = accuracy_score(y_test, y_pred)\n",
    "precision = precision_score(y_test, y_pred)\n",
    "recall = recall_score(y_test, y_pred)\n",
    "f1 = f1_score(y_test, y_pred)\n",
    "conf_matrix = confusion_matrix(y_test, y_pred)\n",
    "\n",
    "print(\"\\nAccuracy:\", accuracy)\n",
    "print(\"Precision:\", precision)\n",
    "print(\"Recall:\", recall)\n",
    "print(\"F1 Score:\", f1)\n",
    "print(\"Confusion Matrix:\\n\", conf_matrix)"
   ]
  },
  {
   "cell_type": "markdown",
   "id": "7ea3b6cd",
   "metadata": {},
   "source": [
    "Comment of the result:\n",
    "\n",
    "~~~\n",
    "Please write your answer in full sentences.\n",
    "\n",
    "\n",
    "~~~"
   ]
  },
  {
   "cell_type": "markdown",
   "id": "a14d35ee",
   "metadata": {},
   "source": [
    "### Ames Housing data\n",
    "\n",
    "Please take a look at the Ames Housing data."
   ]
  },
  {
   "cell_type": "code",
   "execution_count": 25,
   "id": "9db1f2e8",
   "metadata": {
    "kernel": "Python3",
    "tags": [
     "report_cell"
    ]
   },
   "outputs": [],
   "source": [
    "ames_raw=pd.read_csv(\"ames_raw.csv\")"
   ]
  },
  {
   "cell_type": "markdown",
   "id": "ed00790e",
   "metadata": {},
   "source": [
    "Use data of `ames_raw` up to 2008 predict the housing price for the later years."
   ]
  },
  {
   "cell_type": "code",
   "execution_count": 26,
   "id": "47e92069",
   "metadata": {
    "Rmd_chunk_options": "echo=show_code",
    "kernel": "Python3",
    "tags": [
     "report_cell"
    ]
   },
   "outputs": [],
   "source": [
    "# Do feature engineering if needed.\n",
    "ames_raw_2009, ames_raw_2008= ames_raw.query('`Yr Sold`>=2008').copy(), ames_raw.query('`Yr Sold` <2008').copy()"
   ]
  },
  {
   "cell_type": "markdown",
   "id": "6a64eea5",
   "metadata": {},
   "source": [
    "Use the same loss function calculator."
   ]
  },
  {
   "cell_type": "code",
   "execution_count": 27,
   "id": "b50d822d",
   "metadata": {
    "Rmd_chunk_options": "echo=show_code",
    "kernel": "Python3",
    "tags": [
     "report_cell"
    ]
   },
   "outputs": [],
   "source": [
    "def calc_loss(prediction,actual):\n",
    "  difpred = actual-prediction\n",
    "  RMSE =pow(difpred.pow(2).mean(),1/2)\n",
    "  operation_loss=abs(sum(difpred[difpred<0]))+sum(0.1*actual[difpred>0])\n",
    "  return RMSE,operation_loss"
   ]
  },
  {
   "cell_type": "markdown",
   "id": "2bf99443",
   "metadata": {},
   "source": [
    "Apply CART and try to interpret the result that you get.  Be sure to fit the models on a training set and evaluate their performance on a test set.  Does it have a good prediction accuracy?"
   ]
  },
  {
   "cell_type": "code",
   "execution_count": 28,
   "id": "792042dd",
   "metadata": {
    "kernel": "Python3",
    "tags": [
     "report_cell"
    ]
   },
   "outputs": [
    {
     "name": "stdout",
     "output_type": "stream",
     "text": [
      "Mean Squared Error: 1587128493.3234017\n"
     ]
    }
   ],
   "source": [
    "from sklearn.tree import DecisionTreeRegressor\n",
    "from sklearn.metrics import mean_squared_error\n",
    "from sklearn.model_selection import train_test_split\n",
    "\n",
    "features = ['Lot Area', 'Overall Qual', 'Overall Cond', 'Year Built', 'Year Remod/Add', \n",
    "            '1st Flr SF', '2nd Flr SF', 'Low Qual Fin SF', 'Gr Liv Area', 'Full Bath', \n",
    "            'Half Bath', 'Bedroom AbvGr', 'Kitchen AbvGr', 'TotRms AbvGrd', 'Fireplaces', \n",
    "            'Wood Deck SF', 'Open Porch SF', 'Enclosed Porch', '3Ssn Porch', 'Screen Porch', \n",
    "            'Pool Area', 'Misc Val', 'Mo Sold', 'Yr Sold']\n",
    "\n",
    "X_train = ames_raw_2008[features]\n",
    "y_train = ames_raw_2008['SalePrice']\n",
    "X_test = ames_raw_2009[features]\n",
    "y_test = ames_raw_2009['SalePrice']\n",
    "\n",
    "# Tree Model\n",
    "tree = DecisionTreeRegressor()\n",
    "tree.fit(X_train, y_train)\n",
    "\n",
    "treepred = tree.predict(X_test)\n",
    "treemse = mean_squared_error(y_test, treepred)\n",
    "print(f\"Mean Squared Error: {treemse}\")\n"
   ]
  },
  {
   "cell_type": "markdown",
   "id": "e324fb1d",
   "metadata": {},
   "source": [
    "Comment of the result:\n",
    "\n",
    "~~~\n",
    "Please write your answer in full sentences.\n",
    "\n",
    "\n",
    "~~~\n",
    "\n",
    "Apply boosting, bagging, random forests, and BART to the Ames Housing data set. Be sure to fit the models on a training set and evaluate their performance on a test set. How accurate are the results compared to simple linear regression methods? Which of these approaches yields the best performance?"
   ]
  },
  {
   "cell_type": "code",
   "execution_count": 35,
   "id": "c4c54622",
   "metadata": {
    "kernel": "Python3",
    "tags": [
     "report_cell"
    ]
   },
   "outputs": [],
   "source": [
    "from sklearn.ensemble import BaggingRegressor\n",
    "\n",
    "# Bagging model\n",
    "bagging_model = BaggingRegressor()\n",
    "bagging_model.fit(X_train, y_train)\n",
    "bagging_pred = bagging_model.predict(X_test)\n",
    "bagging_mse = mean_squared_error(y_test, bagging_pred)"
   ]
  },
  {
   "cell_type": "code",
   "execution_count": 36,
   "id": "a0185176",
   "metadata": {},
   "outputs": [],
   "source": [
    "from sklearn.ensemble import RandomForestRegressor\n",
    "\n",
    "# Random Forest model\n",
    "rf_model = RandomForestRegressor()\n",
    "rf_model.fit(X_train, y_train)\n",
    "rf_pred = rf_model.predict(X_test)\n",
    "rf_mse = mean_squared_error(y_test, rf_pred)"
   ]
  },
  {
   "cell_type": "code",
   "execution_count": 37,
   "id": "64e3ce79",
   "metadata": {},
   "outputs": [],
   "source": [
    "from sklearn.ensemble import GradientBoostingRegressor\n",
    "\n",
    "# Boosting model\n",
    "boosting_model = GradientBoostingRegressor()\n",
    "boosting_model.fit(X_train, y_train)\n",
    "boosting_pred = boosting_model.predict(X_test)\n",
    "boosting_mse = mean_squared_error(y_test, boosting_pred)"
   ]
  },
  {
   "cell_type": "code",
   "execution_count": 38,
   "id": "d975c467",
   "metadata": {},
   "outputs": [],
   "source": [
    "from sklearn.linear_model import LinearRegression\n",
    "\n",
    "# Linear Regression model\n",
    "lr_model = LinearRegression()\n",
    "lr_model.fit(X_train, y_train)\n",
    "lr_pred = lr_model.predict(X_test)\n",
    "lr_mse = mean_squared_error(y_test, lr_pred)"
   ]
  },
  {
   "cell_type": "code",
   "execution_count": 39,
   "metadata": {},
   "outputs": [
    {
     "name": "stdout",
     "output_type": "stream",
     "text": [
      "Bagging Mean Squared Error: 892006394.1239065\n",
      "Random Forest Mean Squared Error: 845206275.0539491\n",
      "Boosting Mean Squared Error: 713730673.6533124\n",
      "Linear Regression Mean Squared Error: 1238168710.9326386\n"
     ]
    }
   ],
   "source": [
    "print(f\"Bagging Mean Squared Error: {bagging_mse}\")\n",
    "print(f\"Random Forest Mean Squared Error: {rf_mse}\")\n",
    "print(f\"Boosting Mean Squared Error: {boosting_mse}\")\n",
    "print(f\"Linear Regression Mean Squared Error: {lr_mse}\")"
   ]
  },
  {
   "cell_type": "markdown",
   "id": "8740594b",
   "metadata": {},
   "source": [
    "Comment of the result:\n",
    "\n",
    "~~~\n",
    "Please write your answer in full sentences.\n",
    "\n",
    "\n",
    "~~~"
   ]
  },
  {
   "cell_type": "markdown",
   "id": "1cccc280",
   "metadata": {},
   "source": [
    "## Problem Set"
   ]
  },
  {
   "cell_type": "markdown",
   "id": "1bbbb9e6",
   "metadata": {},
   "source": [
    "### Boston\n",
    "\n",
    "\n",
    "In Section 8.3.3, we applied random forests to the Boston data using max_features = 6 and using n_estimators = 100 and n_estimators = 500. Create a plot displaying the test error resulting from random forests on this data set for a more comprehensive range of values for max_features and n_estimators. You can model your plot after Figure 8.10. Describe the results obtained."
   ]
  },
  {
   "cell_type": "code",
   "execution_count": null,
   "id": "46ebdbe8",
   "metadata": {
    "kernel": "Python3",
    "tags": [
     "report_cell"
    ]
   },
   "outputs": [],
   "source": [
    "from ISLP import load_data\n",
    "Boston = load_data(\"Boston\")"
   ]
  },
  {
   "cell_type": "markdown",
   "id": "2b9faaf0",
   "metadata": {},
   "source": [
    "###\n",
    "\n",
    "In the lab, a classification tree was applied to the Carseats data set after converting Sales into a qualitative response variable. Now we will seek to predict Sales using regression trees and related approaches, treating the response as a quantitative variable."
   ]
  },
  {
   "cell_type": "code",
   "execution_count": null,
   "id": "4cad2376",
   "metadata": {
    "kernel": "Python3",
    "tags": [
     "report_cell"
    ]
   },
   "outputs": [],
   "source": [
    "Carseats = load_data(\"Carseats\")"
   ]
  },
  {
   "cell_type": "markdown",
   "id": "038f32c9",
   "metadata": {},
   "source": [
    "(a) Split the data set into a training set and a test set."
   ]
  },
  {
   "cell_type": "code",
   "execution_count": null,
   "id": "b6a0513c",
   "metadata": {
    "kernel": "Python3",
    "tags": [
     "report_cell"
    ]
   },
   "outputs": [],
   "source": []
  },
  {
   "cell_type": "markdown",
   "id": "8be38c78",
   "metadata": {},
   "source": [
    "(b) Fit a regression tree to the training set. Plot the tree, and interpret the results. What test MSE do you obtain?"
   ]
  },
  {
   "cell_type": "code",
   "execution_count": null,
   "id": "53cf235e",
   "metadata": {
    "kernel": "Python3",
    "tags": [
     "report_cell"
    ]
   },
   "outputs": [],
   "source": []
  },
  {
   "cell_type": "markdown",
   "id": "0374a191",
   "metadata": {},
   "source": [
    "(c) Use cross-validation in order to determine the optimal level of tree complexity. Does pruning the tree improve the test MSE?"
   ]
  },
  {
   "cell_type": "code",
   "execution_count": null,
   "id": "dd2a267b",
   "metadata": {
    "kernel": "Python3",
    "tags": [
     "report_cell"
    ]
   },
   "outputs": [],
   "source": []
  },
  {
   "cell_type": "markdown",
   "id": "47a8eaa9",
   "metadata": {},
   "source": [
    "(d) Use the bagging approach in order to analyze this data. What\n",
    "test MSE do you obtain? Use the feature_importance_ values to\n",
    "determine which variables are most important."
   ]
  },
  {
   "cell_type": "code",
   "execution_count": null,
   "id": "1aa5fc4c",
   "metadata": {
    "kernel": "Python3",
    "tags": [
     "report_cell"
    ]
   },
   "outputs": [],
   "source": []
  },
  {
   "cell_type": "markdown",
   "id": "81449ad5",
   "metadata": {},
   "source": [
    "(e) Use random forests to analyze this data. What test MSE do you obtain? Use the feature_importance_ values to determine\n",
    "which variables are most important. Describe the effect of m, the number of variables considered at each split, on the error rate\n",
    "obtained."
   ]
  },
  {
   "cell_type": "code",
   "execution_count": null,
   "id": "e50147a8",
   "metadata": {
    "kernel": "Python3",
    "tags": [
     "report_cell"
    ]
   },
   "outputs": [],
   "source": []
  },
  {
   "cell_type": "markdown",
   "id": "077deaf4",
   "metadata": {},
   "source": [
    "(f) Now analyze the data using BART, and report your results."
   ]
  },
  {
   "cell_type": "code",
   "execution_count": null,
   "id": "886f4ccb",
   "metadata": {
    "kernel": "Python3",
    "tags": [
     "report_cell"
    ]
   },
   "outputs": [],
   "source": []
  },
  {
   "cell_type": "markdown",
   "id": "481487a9",
   "metadata": {},
   "source": [
    "### OJ\n",
    "\n",
    "This problem involves the OJ data set which is part of the ISLR2 package."
   ]
  },
  {
   "cell_type": "code",
   "execution_count": 43,
   "id": "41dbe1c7",
   "metadata": {
    "kernel": "Python3",
    "tags": [
     "report_cell"
    ]
   },
   "outputs": [
    {
     "name": "stdout",
     "output_type": "stream",
     "text": [
      "Index(['Purchase', 'WeekofPurchase', 'StoreID', 'PriceCH', 'PriceMM', 'DiscCH',\n",
      "       'DiscMM', 'SpecialCH', 'SpecialMM', 'LoyalCH', 'SalePriceMM',\n",
      "       'SalePriceCH', 'PriceDiff', 'Store7', 'PctDiscMM', 'PctDiscCH',\n",
      "       'ListPriceDiff', 'STORE'],\n",
      "      dtype='object')\n"
     ]
    }
   ],
   "source": [
    "from ISLP import load_data\n",
    "OJ = load_data(\"OJ\")\n",
    "print(OJ.columns)"
   ]
  },
  {
   "cell_type": "markdown",
   "id": "f3642bdd",
   "metadata": {},
   "source": [
    "(a) Create a training set containing a random sample of 800 observations, and a test set containing the remaining observations.\n",
    "\n",
    "Your code:"
   ]
  },
  {
   "cell_type": "code",
   "execution_count": 56,
   "id": "b724ac1d",
   "metadata": {
    "Rmd_chunk_options": "echo=TRUE",
    "kernel": "Python3",
    "tags": [
     "report_cell"
    ]
   },
   "outputs": [],
   "source": [
    "np.random.RandomState(55)\n",
    "\n",
    "sample800 = np.random.randint(0, OJ.shape[0] - 1, 800)\n",
    "X_train = OJ.iloc[sample800]\n",
    "X_test = OJ.drop(sample800)\n",
    "\n",
    "X_train_1 = pd.get_dummies(X_train.drop(\"Purchase\", axis=1), drop_first=True)\n",
    "X_test_1 = pd.get_dummies(X_test.drop(\"Purchase\", axis=1), drop_first=True)"
   ]
  },
  {
   "cell_type": "markdown",
   "id": "d7303a57",
   "metadata": {},
   "source": [
    "Your answer:\n",
    "\n",
    "~~~\n",
    "Please write your answer in full sentences.\n",
    "\n",
    "\n",
    "~~~\n",
    "\n",
    "(b) Fit a tree to the training data, with Purchase as the response\n",
    "and the other variables as predictors. What is the training error\n",
    "rate?\n",
    "\n",
    "Your code:"
   ]
  },
  {
   "cell_type": "code",
   "execution_count": 61,
   "id": "3b4ea6cb",
   "metadata": {
    "Rmd_chunk_options": "echo=TRUE",
    "kernel": "Python3",
    "tags": [
     "report_cell"
    ]
   },
   "outputs": [
    {
     "name": "stdout",
     "output_type": "stream",
     "text": [
      "Training Misclassification Rate:  0.62%\n"
     ]
    }
   ],
   "source": [
    "from sklearn.tree import DecisionTreeClassifier\n",
    "\n",
    "tree1 = DecisionTreeClassifier()\n",
    "tree1.fit(X_train_1, X_train.loc[:, \"Purchase\"])\n",
    "\n",
    "# Calculate the training error rate\n",
    "trainingErrRate = sum(tree1.predict(X_train_1) != X_train.loc[:, \"Purchase\"]) / X_train.shape[0]\n",
    "print(f'Training Misclassification Rate: {trainingErrRate * 100 : .2f}%')"
   ]
  },
  {
   "cell_type": "markdown",
   "id": "30f801b0",
   "metadata": {},
   "source": [
    "Your answer:\n",
    "\n",
    "~~~\n",
    "Please write your answer in full sentences.\n",
    "\n",
    "\n",
    "~~~\n",
    "\n",
    "(c) Create a plot of the tree, and interpret the results. How many terminal nodes does the tree have?\n",
    "Your code:"
   ]
  },
  {
   "cell_type": "code",
   "execution_count": 63,
   "id": "b8b23b38",
   "metadata": {
    "Rmd_chunk_options": "echo=TRUE",
    "kernel": "Python3",
    "tags": [
     "report_cell"
    ]
   },
   "outputs": [
    {
     "data": {
      "image/png": "[encoded data removed]",
      "text/plain": [
       "<Figure size 1000x1000 with 1 Axes>"
      ]
     },
     "metadata": {},
     "output_type": "display_data"
    }
   ],
   "source": [
    "import matplotlib.pyplot as plt\n",
    "from sklearn import tree\n",
    "\n",
    "plt.figure(figsize=(10, 10))\n",
    "tree.plot_tree(tree1, filled=True)\n",
    "plt.show()"
   ]
  },
  {
   "cell_type": "markdown",
   "id": "26ca7eb5",
   "metadata": {},
   "source": [
    "Your answer:\n",
    "\n",
    "~~~\n",
    "Please write your answer in full sentences.\n",
    "\n",
    "\n",
    "~~~\n",
    "\n",
    "(d) Use the export_tree() function to produce a text summary of\n",
    "the fitted tree. Pick one of the terminal nodes, and interpret the\n",
    "information displayed."
   ]
  },
  {
   "cell_type": "code",
   "execution_count": 64,
   "id": "2f80b15c",
   "metadata": {
    "kernel": "Python3",
    "tags": [
     "report_cell"
    ]
   },
   "outputs": [
    {
     "name": "stdout",
     "output_type": "stream",
     "text": [
      "257\n"
     ]
    }
   ],
   "source": [
    "num_node = tree1.tree_.node_count\n",
    "print(num_node)"
   ]
  },
  {
   "cell_type": "code",
   "execution_count": 68,
   "id": "dd026c79",
   "metadata": {},
   "outputs": [
    {
     "name": "stdout",
     "output_type": "stream",
     "text": [
      "|--- LoyalCH <= 0.50\n",
      "|   |--- LoyalCH <= 0.14\n",
      "|   |   |--- WeekofPurchase <= 227.50\n",
      "|   |   |   |--- class: CH\n",
      "|   |   |--- WeekofPurchase >  227.50\n",
      "|   |   |   |--- STORE <= 3.50\n",
      "|   |   |   |   |--- LoyalCH <= 0.13\n",
      "|   |   |   |   |   |--- WeekofPurchase <= 237.50\n",
      "|   |   |   |   |   |   |--- StoreID <= 5.00\n",
      "|   |   |   |   |   |   |   |--- WeekofPurchase <= 236.50\n",
      "|   |   |   |   |   |   |   |   |--- class: MM\n",
      "|   |   |   |   |   |   |   |--- WeekofPurchase >  236.50\n",
      "|   |   |   |   |   |   |   |   |--- STORE <= 2.00\n",
      "|   |   |   |   |   |   |   |   |   |--- class: MM\n",
      "|   |   |   |   |   |   |   |   |--- STORE >  2.00\n",
      "|   |   |   |   |   |   |   |   |   |--- class: CH\n",
      "|   |   |   |   |   |   |--- StoreID >  5.00\n",
      "|   |   |   |   |   |   |   |--- class: CH\n",
      "|   |   |   |   |   |--- WeekofPurchase >  237.50\n",
      "|   |   |   |   |   |   |--- class: MM\n",
      "|   |   |   |   |--- LoyalCH >  0.13\n",
      "|   |   |   |   |   |--- SalePriceMM <= 2.18\n",
      "|   |   |   |   |   |   |--- class: MM\n",
      "|   |   |   |   |   |--- SalePriceMM >  2.18\n",
      "|   |   |   |   |   |   |--- class: CH\n",
      "|   |   |   |--- STORE >  3.50\n",
      "|   |   |   |   |--- class: CH\n",
      "|   |--- LoyalCH >  0.14\n",
      "|   |   |--- PriceDiff <= 0.25\n",
      "|   |   |   |--- WeekofPurchase <= 251.50\n",
      "|   |   |   |   |--- LoyalCH <= 0.43\n",
      "|   |   |   |   |   |--- STORE <= 0.50\n",
      "|   |   |   |   |   |   |--- PriceMM <= 1.84\n",
      "|   |   |   |   |   |   |   |--- LoyalCH <= 0.16\n",
      "|   |   |   |   |   |   |   |   |--- class: MM\n",
      "|   |   |   |   |   |   |   |--- LoyalCH >  0.16\n",
      "|   |   |   |   |   |   |   |   |--- class: CH\n",
      "|   |   |   |   |   |   |--- PriceMM >  1.84\n",
      "|   |   |   |   |   |   |   |--- PriceMM <= 2.04\n",
      "|   |   |   |   |   |   |   |   |--- WeekofPurchase <= 235.50\n",
      "|   |   |   |   |   |   |   |   |   |--- WeekofPurchase <= 233.50\n",
      "|   |   |   |   |   |   |   |   |   |   |--- class: MM\n",
      "|   |   |   |   |   |   |   |   |   |--- WeekofPurchase >  233.50\n",
      "|   |   |   |   |   |   |   |   |   |   |--- class: MM\n",
      "|   |   |   |   |   |   |   |   |--- WeekofPurchase >  235.50\n",
      "|   |   |   |   |   |   |   |   |   |--- class: CH\n",
      "|   |   |   |   |   |   |   |--- PriceMM >  2.04\n",
      "|   |   |   |   |   |   |   |   |--- class: MM\n",
      "|   |   |   |   |   |--- STORE >  0.50\n",
      "|   |   |   |   |   |   |--- WeekofPurchase <= 244.00\n",
      "|   |   |   |   |   |   |   |--- PriceCH <= 1.72\n",
      "|   |   |   |   |   |   |   |   |--- class: MM\n",
      "|   |   |   |   |   |   |   |--- PriceCH >  1.72\n",
      "|   |   |   |   |   |   |   |   |--- WeekofPurchase <= 229.50\n",
      "|   |   |   |   |   |   |   |   |   |--- WeekofPurchase <= 228.00\n",
      "|   |   |   |   |   |   |   |   |   |   |--- class: MM\n",
      "|   |   |   |   |   |   |   |   |   |--- WeekofPurchase >  228.00\n",
      "|   |   |   |   |   |   |   |   |   |   |--- StoreID <= 3.50\n",
      "|   |   |   |   |   |   |   |   |   |   |   |--- class: CH\n",
      "|   |   |   |   |   |   |   |   |   |   |--- StoreID >  3.50\n",
      "|   |   |   |   |   |   |   |   |   |   |   |--- class: MM\n",
      "|   |   |   |   |   |   |   |   |--- WeekofPurchase >  229.50\n",
      "|   |   |   |   |   |   |   |   |   |--- LoyalCH <= 0.28\n",
      "|   |   |   |   |   |   |   |   |   |   |--- SalePriceMM <= 1.44\n",
      "|   |   |   |   |   |   |   |   |   |   |   |--- class: CH\n",
      "|   |   |   |   |   |   |   |   |   |   |--- SalePriceMM >  1.44\n",
      "|   |   |   |   |   |   |   |   |   |   |   |--- truncated branch of depth 3\n",
      "|   |   |   |   |   |   |   |   |   |--- LoyalCH >  0.28\n",
      "|   |   |   |   |   |   |   |   |   |   |--- class: MM\n",
      "|   |   |   |   |   |   |--- WeekofPurchase >  244.00\n",
      "|   |   |   |   |   |   |   |--- LoyalCH <= 0.24\n",
      "|   |   |   |   |   |   |   |   |--- class: MM\n",
      "|   |   |   |   |   |   |   |--- LoyalCH >  0.24\n",
      "|   |   |   |   |   |   |   |   |--- class: CH\n",
      "|   |   |   |   |--- LoyalCH >  0.43\n",
      "|   |   |   |   |   |--- LoyalCH <= 0.44\n",
      "|   |   |   |   |   |   |--- class: CH\n",
      "|   |   |   |   |   |--- LoyalCH >  0.44\n",
      "|   |   |   |   |   |   |--- WeekofPurchase <= 249.50\n",
      "|   |   |   |   |   |   |   |--- WeekofPurchase <= 246.50\n",
      "|   |   |   |   |   |   |   |   |--- WeekofPurchase <= 245.50\n",
      "|   |   |   |   |   |   |   |   |   |--- PriceCH <= 1.77\n",
      "|   |   |   |   |   |   |   |   |   |   |--- ListPriceDiff <= 0.12\n",
      "|   |   |   |   |   |   |   |   |   |   |   |--- class: MM\n",
      "|   |   |   |   |   |   |   |   |   |   |--- ListPriceDiff >  0.12\n",
      "|   |   |   |   |   |   |   |   |   |   |   |--- truncated branch of depth 3\n",
      "|   |   |   |   |   |   |   |   |   |--- PriceCH >  1.77\n",
      "|   |   |   |   |   |   |   |   |   |   |--- STORE <= 3.50\n",
      "|   |   |   |   |   |   |   |   |   |   |   |--- class: MM\n",
      "|   |   |   |   |   |   |   |   |   |   |--- STORE >  3.50\n",
      "|   |   |   |   |   |   |   |   |   |   |   |--- truncated branch of depth 2\n",
      "|   |   |   |   |   |   |   |   |--- WeekofPurchase >  245.50\n",
      "|   |   |   |   |   |   |   |   |   |--- class: CH\n",
      "|   |   |   |   |   |   |   |--- WeekofPurchase >  246.50\n",
      "|   |   |   |   |   |   |   |   |--- class: MM\n",
      "|   |   |   |   |   |   |--- WeekofPurchase >  249.50\n",
      "|   |   |   |   |   |   |   |--- class: CH\n",
      "|   |   |   |--- WeekofPurchase >  251.50\n",
      "|   |   |   |   |--- PriceDiff <= -0.09\n",
      "|   |   |   |   |   |--- class: MM\n",
      "|   |   |   |   |--- PriceDiff >  -0.09\n",
      "|   |   |   |   |   |--- WeekofPurchase <= 263.00\n",
      "|   |   |   |   |   |   |--- class: MM\n",
      "|   |   |   |   |   |--- WeekofPurchase >  263.00\n",
      "|   |   |   |   |   |   |--- WeekofPurchase <= 265.50\n",
      "|   |   |   |   |   |   |   |--- class: CH\n",
      "|   |   |   |   |   |   |--- WeekofPurchase >  265.50\n",
      "|   |   |   |   |   |   |   |--- LoyalCH <= 0.20\n",
      "|   |   |   |   |   |   |   |   |--- StoreID <= 2.50\n",
      "|   |   |   |   |   |   |   |   |   |--- class: MM\n",
      "|   |   |   |   |   |   |   |   |--- StoreID >  2.50\n",
      "|   |   |   |   |   |   |   |   |   |--- class: CH\n",
      "|   |   |   |   |   |   |   |--- LoyalCH >  0.20\n",
      "|   |   |   |   |   |   |   |   |--- LoyalCH <= 0.39\n",
      "|   |   |   |   |   |   |   |   |   |--- class: MM\n",
      "|   |   |   |   |   |   |   |   |--- LoyalCH >  0.39\n",
      "|   |   |   |   |   |   |   |   |   |--- PriceMM <= 2.06\n",
      "|   |   |   |   |   |   |   |   |   |   |--- class: MM\n",
      "|   |   |   |   |   |   |   |   |   |--- PriceMM >  2.06\n",
      "|   |   |   |   |   |   |   |   |   |   |--- LoyalCH <= 0.49\n",
      "|   |   |   |   |   |   |   |   |   |   |   |--- truncated branch of depth 3\n",
      "|   |   |   |   |   |   |   |   |   |   |--- LoyalCH >  0.49\n",
      "|   |   |   |   |   |   |   |   |   |   |   |--- class: MM\n",
      "|   |   |--- PriceDiff >  0.25\n",
      "|   |   |   |--- STORE <= 1.50\n",
      "|   |   |   |   |--- WeekofPurchase <= 270.50\n",
      "|   |   |   |   |   |--- WeekofPurchase <= 255.00\n",
      "|   |   |   |   |   |   |--- LoyalCH <= 0.47\n",
      "|   |   |   |   |   |   |   |--- PriceMM <= 2.13\n",
      "|   |   |   |   |   |   |   |   |--- class: CH\n",
      "|   |   |   |   |   |   |   |--- PriceMM >  2.13\n",
      "|   |   |   |   |   |   |   |   |--- class: MM\n",
      "|   |   |   |   |   |   |--- LoyalCH >  0.47\n",
      "|   |   |   |   |   |   |   |--- StoreID <= 4.00\n",
      "|   |   |   |   |   |   |   |   |--- class: MM\n",
      "|   |   |   |   |   |   |   |--- StoreID >  4.00\n",
      "|   |   |   |   |   |   |   |   |--- PriceMM <= 2.13\n",
      "|   |   |   |   |   |   |   |   |   |--- LoyalCH <= 0.49\n",
      "|   |   |   |   |   |   |   |   |   |   |--- class: CH\n",
      "|   |   |   |   |   |   |   |   |   |--- LoyalCH >  0.49\n",
      "|   |   |   |   |   |   |   |   |   |   |--- class: MM\n",
      "|   |   |   |   |   |   |   |   |--- PriceMM >  2.13\n",
      "|   |   |   |   |   |   |   |   |   |--- class: CH\n",
      "|   |   |   |   |   |--- WeekofPurchase >  255.00\n",
      "|   |   |   |   |   |   |--- class: CH\n",
      "|   |   |   |   |--- WeekofPurchase >  270.50\n",
      "|   |   |   |   |   |--- LoyalCH <= 0.39\n",
      "|   |   |   |   |   |   |--- class: CH\n",
      "|   |   |   |   |   |--- LoyalCH >  0.39\n",
      "|   |   |   |   |   |   |--- Store7_Yes <= 0.50\n",
      "|   |   |   |   |   |   |   |--- class: CH\n",
      "|   |   |   |   |   |   |--- Store7_Yes >  0.50\n",
      "|   |   |   |   |   |   |   |--- WeekofPurchase <= 274.00\n",
      "|   |   |   |   |   |   |   |   |--- class: MM\n",
      "|   |   |   |   |   |   |   |--- WeekofPurchase >  274.00\n",
      "|   |   |   |   |   |   |   |   |--- class: MM\n",
      "|   |   |   |--- STORE >  1.50\n",
      "|   |   |   |   |--- PriceDiff <= 0.38\n",
      "|   |   |   |   |   |--- WeekofPurchase <= 236.00\n",
      "|   |   |   |   |   |   |--- LoyalCH <= 0.48\n",
      "|   |   |   |   |   |   |   |--- StoreID <= 2.50\n",
      "|   |   |   |   |   |   |   |   |--- class: MM\n",
      "|   |   |   |   |   |   |   |--- StoreID >  2.50\n",
      "|   |   |   |   |   |   |   |   |--- WeekofPurchase <= 234.50\n",
      "|   |   |   |   |   |   |   |   |   |--- LoyalCH <= 0.25\n",
      "|   |   |   |   |   |   |   |   |   |   |--- class: MM\n",
      "|   |   |   |   |   |   |   |   |   |--- LoyalCH >  0.25\n",
      "|   |   |   |   |   |   |   |   |   |   |--- class: CH\n",
      "|   |   |   |   |   |   |   |   |--- WeekofPurchase >  234.50\n",
      "|   |   |   |   |   |   |   |   |   |--- class: MM\n",
      "|   |   |   |   |   |   |--- LoyalCH >  0.48\n",
      "|   |   |   |   |   |   |   |--- class: CH\n",
      "|   |   |   |   |   |--- WeekofPurchase >  236.00\n",
      "|   |   |   |   |   |   |--- WeekofPurchase <= 257.50\n",
      "|   |   |   |   |   |   |   |--- SalePriceMM <= 2.24\n",
      "|   |   |   |   |   |   |   |   |--- class: CH\n",
      "|   |   |   |   |   |   |   |--- SalePriceMM >  2.24\n",
      "|   |   |   |   |   |   |   |   |--- LoyalCH <= 0.38\n",
      "|   |   |   |   |   |   |   |   |   |--- class: MM\n",
      "|   |   |   |   |   |   |   |   |--- LoyalCH >  0.38\n",
      "|   |   |   |   |   |   |   |   |   |--- class: CH\n",
      "|   |   |   |   |   |   |--- WeekofPurchase >  257.50\n",
      "|   |   |   |   |   |   |   |--- WeekofPurchase <= 266.50\n",
      "|   |   |   |   |   |   |   |   |--- class: MM\n",
      "|   |   |   |   |   |   |   |--- WeekofPurchase >  266.50\n",
      "|   |   |   |   |   |   |   |   |--- LoyalCH <= 0.29\n",
      "|   |   |   |   |   |   |   |   |   |--- class: CH\n",
      "|   |   |   |   |   |   |   |   |--- LoyalCH >  0.29\n",
      "|   |   |   |   |   |   |   |   |   |--- LoyalCH <= 0.44\n",
      "|   |   |   |   |   |   |   |   |   |   |--- SpecialMM <= 0.50\n",
      "|   |   |   |   |   |   |   |   |   |   |   |--- class: MM\n",
      "|   |   |   |   |   |   |   |   |   |   |--- SpecialMM >  0.50\n",
      "|   |   |   |   |   |   |   |   |   |   |   |--- class: CH\n",
      "|   |   |   |   |   |   |   |   |   |--- LoyalCH >  0.44\n",
      "|   |   |   |   |   |   |   |   |   |   |--- class: CH\n",
      "|   |   |   |   |--- PriceDiff >  0.38\n",
      "|   |   |   |   |   |--- class: MM\n",
      "|--- LoyalCH >  0.50\n",
      "|   |--- LoyalCH <= 0.71\n",
      "|   |   |--- ListPriceDiff <= 0.23\n",
      "|   |   |   |--- PctDiscMM <= 0.20\n",
      "|   |   |   |   |--- ListPriceDiff <= 0.16\n",
      "|   |   |   |   |   |--- SalePriceMM <= 1.99\n",
      "|   |   |   |   |   |   |--- StoreID <= 2.50\n",
      "|   |   |   |   |   |   |   |--- SalePriceMM <= 1.79\n",
      "|   |   |   |   |   |   |   |   |--- WeekofPurchase <= 228.00\n",
      "|   |   |   |   |   |   |   |   |   |--- class: CH\n",
      "|   |   |   |   |   |   |   |   |--- WeekofPurchase >  228.00\n",
      "|   |   |   |   |   |   |   |   |   |--- class: MM\n",
      "|   |   |   |   |   |   |   |--- SalePriceMM >  1.79\n",
      "|   |   |   |   |   |   |   |   |--- class: CH\n",
      "|   |   |   |   |   |   |--- StoreID >  2.50\n",
      "|   |   |   |   |   |   |   |--- SalePriceCH <= 1.94\n",
      "|   |   |   |   |   |   |   |   |--- class: CH\n",
      "|   |   |   |   |   |   |   |--- SalePriceCH >  1.94\n",
      "|   |   |   |   |   |   |   |   |--- STORE <= 3.50\n",
      "|   |   |   |   |   |   |   |   |   |--- class: CH\n",
      "|   |   |   |   |   |   |   |   |--- STORE >  3.50\n",
      "|   |   |   |   |   |   |   |   |   |--- class: MM\n",
      "|   |   |   |   |   |--- SalePriceMM >  1.99\n",
      "|   |   |   |   |   |   |--- STORE <= 3.50\n",
      "|   |   |   |   |   |   |   |--- class: MM\n",
      "|   |   |   |   |   |   |--- STORE >  3.50\n",
      "|   |   |   |   |   |   |   |--- LoyalCH <= 0.65\n",
      "|   |   |   |   |   |   |   |   |--- class: CH\n",
      "|   |   |   |   |   |   |   |--- LoyalCH >  0.65\n",
      "|   |   |   |   |   |   |   |   |--- class: MM\n",
      "|   |   |   |   |--- ListPriceDiff >  0.16\n",
      "|   |   |   |   |   |--- class: CH\n",
      "|   |   |   |--- PctDiscMM >  0.20\n",
      "|   |   |   |   |--- LoyalCH <= 0.66\n",
      "|   |   |   |   |   |--- class: MM\n",
      "|   |   |   |   |--- LoyalCH >  0.66\n",
      "|   |   |   |   |   |--- ListPriceDiff <= 0.20\n",
      "|   |   |   |   |   |   |--- class: CH\n",
      "|   |   |   |   |   |--- ListPriceDiff >  0.20\n",
      "|   |   |   |   |   |   |--- class: MM\n",
      "|   |   |--- ListPriceDiff >  0.23\n",
      "|   |   |   |--- LoyalCH <= 0.69\n",
      "|   |   |   |   |--- WeekofPurchase <= 236.50\n",
      "|   |   |   |   |   |--- LoyalCH <= 0.68\n",
      "|   |   |   |   |   |   |--- StoreID <= 2.50\n",
      "|   |   |   |   |   |   |   |--- ListPriceDiff <= 0.27\n",
      "|   |   |   |   |   |   |   |   |--- class: MM\n",
      "|   |   |   |   |   |   |   |--- ListPriceDiff >  0.27\n",
      "|   |   |   |   |   |   |   |   |--- class: CH\n",
      "|   |   |   |   |   |   |--- StoreID >  2.50\n",
      "|   |   |   |   |   |   |   |--- class: CH\n",
      "|   |   |   |   |   |--- LoyalCH >  0.68\n",
      "|   |   |   |   |   |   |--- class: MM\n",
      "|   |   |   |   |--- WeekofPurchase >  236.50\n",
      "|   |   |   |   |   |--- class: CH\n",
      "|   |   |   |--- LoyalCH >  0.69\n",
      "|   |   |   |   |--- PctDiscMM <= 0.01\n",
      "|   |   |   |   |   |--- class: CH\n",
      "|   |   |   |   |--- PctDiscMM >  0.01\n",
      "|   |   |   |   |   |--- class: MM\n",
      "|   |--- LoyalCH >  0.71\n",
      "|   |   |--- PriceDiff <= 0.31\n",
      "|   |   |   |--- PriceDiff <= 0.29\n",
      "|   |   |   |   |--- DiscMM <= 0.72\n",
      "|   |   |   |   |   |--- PriceMM <= 1.74\n",
      "|   |   |   |   |   |   |--- StoreID <= 4.50\n",
      "|   |   |   |   |   |   |   |--- class: CH\n",
      "|   |   |   |   |   |   |--- StoreID >  4.50\n",
      "|   |   |   |   |   |   |   |--- class: MM\n",
      "|   |   |   |   |   |--- PriceMM >  1.74\n",
      "|   |   |   |   |   |   |--- SalePriceMM <= 2.21\n",
      "|   |   |   |   |   |   |   |--- ListPriceDiff <= 0.31\n",
      "|   |   |   |   |   |   |   |   |--- PriceDiff <= -0.35\n",
      "|   |   |   |   |   |   |   |   |   |--- SpecialCH <= 0.50\n",
      "|   |   |   |   |   |   |   |   |   |   |--- class: CH\n",
      "|   |   |   |   |   |   |   |   |   |--- SpecialCH >  0.50\n",
      "|   |   |   |   |   |   |   |   |   |   |--- LoyalCH <= 0.99\n",
      "|   |   |   |   |   |   |   |   |   |   |   |--- class: MM\n",
      "|   |   |   |   |   |   |   |   |   |   |--- LoyalCH >  0.99\n",
      "|   |   |   |   |   |   |   |   |   |   |   |--- class: CH\n",
      "|   |   |   |   |   |   |   |   |--- PriceDiff >  -0.35\n",
      "|   |   |   |   |   |   |   |   |   |--- SpecialMM <= 0.50\n",
      "|   |   |   |   |   |   |   |   |   |   |--- PriceDiff <= 0.20\n",
      "|   |   |   |   |   |   |   |   |   |   |   |--- class: CH\n",
      "|   |   |   |   |   |   |   |   |   |   |--- PriceDiff >  0.20\n",
      "|   |   |   |   |   |   |   |   |   |   |   |--- truncated branch of depth 6\n",
      "|   |   |   |   |   |   |   |   |   |--- SpecialMM >  0.50\n",
      "|   |   |   |   |   |   |   |   |   |   |--- LoyalCH <= 0.75\n",
      "|   |   |   |   |   |   |   |   |   |   |   |--- truncated branch of depth 2\n",
      "|   |   |   |   |   |   |   |   |   |   |--- LoyalCH >  0.75\n",
      "|   |   |   |   |   |   |   |   |   |   |   |--- truncated branch of depth 4\n",
      "|   |   |   |   |   |   |   |--- ListPriceDiff >  0.31\n",
      "|   |   |   |   |   |   |   |   |--- LoyalCH <= 0.97\n",
      "|   |   |   |   |   |   |   |   |   |--- class: CH\n",
      "|   |   |   |   |   |   |   |   |--- LoyalCH >  0.97\n",
      "|   |   |   |   |   |   |   |   |   |--- class: MM\n",
      "|   |   |   |   |   |   |--- SalePriceMM >  2.21\n",
      "|   |   |   |   |   |   |   |--- LoyalCH <= 0.92\n",
      "|   |   |   |   |   |   |   |   |--- class: CH\n",
      "|   |   |   |   |   |   |   |--- LoyalCH >  0.92\n",
      "|   |   |   |   |   |   |   |   |--- LoyalCH <= 0.97\n",
      "|   |   |   |   |   |   |   |   |   |--- LoyalCH <= 0.94\n",
      "|   |   |   |   |   |   |   |   |   |   |--- class: MM\n",
      "|   |   |   |   |   |   |   |   |   |--- LoyalCH >  0.94\n",
      "|   |   |   |   |   |   |   |   |   |   |--- LoyalCH <= 0.95\n",
      "|   |   |   |   |   |   |   |   |   |   |   |--- class: CH\n",
      "|   |   |   |   |   |   |   |   |   |   |--- LoyalCH >  0.95\n",
      "|   |   |   |   |   |   |   |   |   |   |   |--- class: MM\n",
      "|   |   |   |   |   |   |   |   |--- LoyalCH >  0.97\n",
      "|   |   |   |   |   |   |   |   |   |--- class: CH\n",
      "|   |   |   |   |--- DiscMM >  0.72\n",
      "|   |   |   |   |   |--- StoreID <= 1.50\n",
      "|   |   |   |   |   |   |--- class: MM\n",
      "|   |   |   |   |   |--- StoreID >  1.50\n",
      "|   |   |   |   |   |   |--- class: CH\n",
      "|   |   |   |--- PriceDiff >  0.29\n",
      "|   |   |   |   |--- LoyalCH <= 0.84\n",
      "|   |   |   |   |   |--- LoyalCH <= 0.77\n",
      "|   |   |   |   |   |   |--- class: CH\n",
      "|   |   |   |   |   |--- LoyalCH >  0.77\n",
      "|   |   |   |   |   |   |--- WeekofPurchase <= 235.00\n",
      "|   |   |   |   |   |   |   |--- class: CH\n",
      "|   |   |   |   |   |   |--- WeekofPurchase >  235.00\n",
      "|   |   |   |   |   |   |   |--- class: MM\n",
      "|   |   |   |   |--- LoyalCH >  0.84\n",
      "|   |   |   |   |   |--- LoyalCH <= 0.97\n",
      "|   |   |   |   |   |   |--- class: CH\n",
      "|   |   |   |   |   |--- LoyalCH >  0.97\n",
      "|   |   |   |   |   |   |--- SalePriceCH <= 1.89\n",
      "|   |   |   |   |   |   |   |--- class: MM\n",
      "|   |   |   |   |   |   |--- SalePriceCH >  1.89\n",
      "|   |   |   |   |   |   |   |--- class: CH\n",
      "|   |   |--- PriceDiff >  0.31\n",
      "|   |   |   |--- class: CH\n",
      "\n"
     ]
    }
   ],
   "source": [
    "from sklearn.tree import export_text\n",
    "\n",
    "tree_rules = export_text(tree1, feature_names=list(X_train_1.columns))\n",
    "print(tree_rules)"
   ]
  },
  {
   "cell_type": "markdown",
   "id": "0f3434b5",
   "metadata": {},
   "source": [
    "(e) Predict the response on the test data, and produce a confusion\n",
    "matrix comparing the test labels to the predicted test labels.\n",
    "What is the test error rate?\n",
    "\n",
    "Your code:"
   ]
  },
  {
   "cell_type": "code",
   "execution_count": 69,
   "id": "eb630622",
   "metadata": {
    "Rmd_chunk_options": "echo=TRUE",
    "kernel": "Python3",
    "tags": [
     "report_cell"
    ]
   },
   "outputs": [
    {
     "name": "stdout",
     "output_type": "stream",
     "text": [
      "[[238  52]\n",
      " [ 61 140]]\n",
      "Test Error Rate: 23.01%\n"
     ]
    }
   ],
   "source": [
    "y_pred = tree1.predict(X_test_1)\n",
    "\n",
    "cm = confusion_matrix(X_test.loc[:, \"Purchase\"], y_pred)\n",
    "print(cm)\n",
    "\n",
    "test_error_rate = (cm[0, 1] + cm[1, 0]) / cm.sum()\n",
    "print(f\"Test Error Rate: {test_error_rate * 100:.2f}%\")"
   ]
  },
  {
   "cell_type": "markdown",
   "id": "66ec0679",
   "metadata": {},
   "source": [
    "Your answer:\n",
    "\n",
    "~~~\n",
    "Please write your answer in full sentences.\n",
    "\n",
    "\n",
    "~~~\n",
    "\n",
    "(f) Use cross-validation on the training set in order to determine\n",
    "the optimal tree size.\n",
    "Your code:"
   ]
  },
  {
   "cell_type": "code",
   "execution_count": 88,
   "id": "37359959",
   "metadata": {
    "Rmd_chunk_options": "echo=TRUE",
    "kernel": "Python3",
    "tags": [
     "report_cell"
    ]
   },
   "outputs": [
    {
     "name": "stdout",
     "output_type": "stream",
     "text": [
      "The optimal tree size (max_depth) is: 9\n"
     ]
    }
   ],
   "source": [
    "from sklearn.model_selection import GridSearchCV\n",
    "from sklearn.tree import DecisionTreeClassifier\n",
    "\n",
    "param_grid = {'max_depth': range(1, 10)}\n",
    "treeCV = DecisionTreeClassifier()\n",
    "\n",
    "grid = GridSearchCV(treeCV, param_grid, cv=10)\n",
    "\n",
    "grid.fit(X_train_1, X_train['Purchase'])\n",
    "\n",
    "max_depth = grid.best_params_['max_depth']\n",
    "\n",
    "print(f\"The optimal tree size (max_depth) is: {max_depth}\")"
   ]
  },
  {
   "cell_type": "markdown",
   "id": "3d54c5e8",
   "metadata": {},
   "source": [
    "Your answer:\n",
    "\n",
    "~~~\n",
    "Please write your answer in full sentences.\n",
    "\n",
    "\n",
    "~~~\n",
    "\n",
    "(g) Produce a plot with tree size on the x-axis and cross-validated\n",
    "classification error rate on the y-axis.\n",
    "Your code:"
   ]
  },
  {
   "cell_type": "code",
   "execution_count": 91,
   "id": "2a4aa076",
   "metadata": {
    "Rmd_chunk_options": "echo=TRUE",
    "kernel": "Python3",
    "tags": [
     "report_cell"
    ]
   },
   "outputs": [
    {
     "data": {
      "image/png": "[encoded data removed]",
      "text/plain": [
       "<Figure size 640x480 with 1 Axes>"
      ]
     },
     "metadata": {},
     "output_type": "display_data"
    }
   ],
   "source": [
    "[list(i.values())[0] for i in grid.cv_results_['params']]\n",
    "plt.plot([list(i.values())[0] for i in grid.cv_results_['params']], grid.cv_results_['mean_test_score'])\n",
    "plt.xlabel('Tree Size')\n",
    "plt.ylabel('Mean Test Score')\n",
    "plt.show()"
   ]
  },
  {
   "cell_type": "markdown",
   "id": "2dd5b8bf",
   "metadata": {},
   "source": [
    "Your answer:\n",
    "\n",
    "~~~\n",
    "Please write your answer in full sentences.\n",
    "\n",
    "\n",
    "~~~\n",
    "\n",
    "(h) Which tree size corresponds to the lowest cross-validated classification error rate?\n",
    "\n",
    "Your code:"
   ]
  },
  {
   "cell_type": "markdown",
   "id": "c1c0bbc5",
   "metadata": {},
   "source": [
    "Your answer:\n",
    "\n",
    "~~~\n",
    "Tree size 2 has the lowest cv classification error rate.\n",
    "\n",
    "\n",
    "~~~\n",
    "\n",
    "(i) Produce a pruned tree corresponding to the optimal tree size obtained using cross-validation. If cross-validation does not lead\n",
    "to selection of a pruned tree, then create a pruned tree with five terminal nodes.\n",
    "\n",
    "Your code:"
   ]
  },
  {
   "cell_type": "code",
   "execution_count": 94,
   "id": "27432083",
   "metadata": {
    "Rmd_chunk_options": "echo=TRUE",
    "kernel": "Python3",
    "tags": [
     "report_cell"
    ]
   },
   "outputs": [
    {
     "data": {
      "image/png": "[encoded data removed]",
      "text/plain": [
       "<Figure size 1200x800 with 1 Axes>"
      ]
     },
     "metadata": {},
     "output_type": "display_data"
    }
   ],
   "source": [
    "tree2 = DecisionTreeClassifier(max_depth=9)\n",
    "tree2.fit(X_train_1, X_train['Purchase'])\n",
    "plt.figure(figsize=(12, 8))\n",
    "tree.plot_tree(tree2, filled=True)\n",
    "plt.show()"
   ]
  },
  {
   "cell_type": "markdown",
   "id": "f9298adc",
   "metadata": {},
   "source": [
    "Your answer:\n",
    "\n",
    "~~~\n",
    "Please write your answer in full sentences.\n",
    "\n",
    "\n",
    "~~~\n",
    "\n",
    "(j) Compare the training error rates between the pruned and unpruned trees. Which is higher?\n",
    "\n",
    "Your code:"
   ]
  },
  {
   "cell_type": "code",
   "execution_count": 97,
   "id": "5464079b",
   "metadata": {
    "Rmd_chunk_options": "echo=TRUE",
    "kernel": "Python3",
    "tags": [
     "report_cell"
    ]
   },
   "outputs": [
    {
     "name": "stdout",
     "output_type": "stream",
     "text": [
      "misclassification rate: 0.22606924643584522\n"
     ]
    }
   ],
   "source": [
    "tree3 = confusion_matrix(X_test['Purchase'], tree2.predict(X_test_1))\n",
    "print('misclassification rate:', (tree3[0,1]+tree3[1,0])/tree3.sum())"
   ]
  },
  {
   "cell_type": "markdown",
   "id": "a1071b7d",
   "metadata": {},
   "source": [
    "Your answer:\n",
    "\n",
    "~~~\n",
    "Please write your answer in full sentences.\n",
    "\n",
    "\n",
    "~~~\n",
    "\n",
    "\n",
    "(k) Compare the test error rates between the pruned and unpruned trees. Which is higher?\n",
    "\n",
    "Your code:"
   ]
  },
  {
   "cell_type": "code",
   "execution_count": 99,
   "id": "306fe3fc",
   "metadata": {
    "Rmd_chunk_options": "echo=TRUE",
    "kernel": "Python3",
    "tags": [
     "report_cell"
    ]
   },
   "outputs": [
    {
     "name": "stdout",
     "output_type": "stream",
     "text": [
      "Unpruned: 23.01%\n",
      "Pruned:  22.61%\n"
     ]
    }
   ],
   "source": [
    "print(f\"Unpruned: {test_error_rate * 100:.2f}%\")\n",
    "print(f'Pruned: {(tree3[0,1]+tree3[1,0])/tree3.sum() * 100: .2f}%')"
   ]
  },
  {
   "cell_type": "markdown",
   "id": "95d77e1f",
   "metadata": {},
   "source": [
    "Your answer:\n",
    "\n",
    "~~~\n",
    "Please write your answer in full sentences.\n",
    "\n",
    "\n",
    "~~~"
   ]
  },
  {
   "cell_type": "markdown",
   "id": "d8f310ba",
   "metadata": {},
   "source": [
    "### Hitters\n",
    "\n",
    "We now use boosting to predict Salary in the Hitters data set."
   ]
  },
  {
   "cell_type": "code",
   "execution_count": null,
   "id": "3c2407bc",
   "metadata": {
    "kernel": "Python3",
    "tags": [
     "report_cell"
    ]
   },
   "outputs": [],
   "source": [
    "Hitters = load_data(\"Hitters\")"
   ]
  },
  {
   "cell_type": "markdown",
   "id": "f5e16093",
   "metadata": {},
   "source": [
    "(a) Remove the observations for whom the salary information is unknown, and then log-transform the salaries.\n",
    "\n",
    "Your code:"
   ]
  },
  {
   "cell_type": "code",
   "execution_count": null,
   "id": "9f3fd328",
   "metadata": {
    "Rmd_chunk_options": "echo=TRUE",
    "kernel": "Python3",
    "tags": [
     "report_cell"
    ]
   },
   "outputs": [],
   "source": [
    "#\n",
    "#"
   ]
  },
  {
   "cell_type": "markdown",
   "id": "19c92289",
   "metadata": {},
   "source": [
    "Your answer:\n",
    "\n",
    "~~~\n",
    "Please write your answer in full sentences.\n",
    "\n",
    "\n",
    "~~~\n",
    "\n",
    "(b) Create a training set consisting of the first 200 observations, and a test set consisting of the remaining observations.\n",
    "\n",
    "Your code:"
   ]
  },
  {
   "cell_type": "code",
   "execution_count": null,
   "id": "69ffe30b",
   "metadata": {
    "Rmd_chunk_options": "echo=TRUE",
    "kernel": "Python3",
    "tags": [
     "report_cell"
    ]
   },
   "outputs": [],
   "source": [
    "#\n",
    "#"
   ]
  },
  {
   "cell_type": "markdown",
   "id": "9a501e56",
   "metadata": {},
   "source": [
    "Your answer:\n",
    "\n",
    "~~~\n",
    "Please write your answer in full sentences.\n",
    "\n",
    "\n",
    "~~~\n",
    "\n",
    "(c) Perform boosting on the training set with 1,000 trees for a range of values of the shrinkage parameter $lambda$. Produce a plot with different shrinkage values on the x-axis and the corresponding\n",
    "training set MSE on the y-axis.\n",
    "\n",
    "Your code:"
   ]
  },
  {
   "cell_type": "code",
   "execution_count": null,
   "id": "81d0ee7f",
   "metadata": {
    "Rmd_chunk_options": "echo=TRUE",
    "kernel": "Python3",
    "tags": [
     "report_cell"
    ]
   },
   "outputs": [],
   "source": [
    "#\n",
    "#"
   ]
  },
  {
   "cell_type": "markdown",
   "id": "f4d190d6",
   "metadata": {},
   "source": [
    "Your answer:\n",
    "\n",
    "~~~\n",
    "Please write your answer in full sentences.\n",
    "\n",
    "\n",
    "~~~\n",
    "\n",
    "(d) Produce a plot with different shrinkage values on the x-axis and the corresponding test set MSE on the y-axis.\n",
    "\n",
    "Your code:"
   ]
  },
  {
   "cell_type": "code",
   "execution_count": null,
   "id": "2c414155",
   "metadata": {
    "Rmd_chunk_options": "echo=TRUE",
    "kernel": "Python3",
    "tags": [
     "report_cell"
    ]
   },
   "outputs": [],
   "source": [
    "#\n",
    "#"
   ]
  },
  {
   "cell_type": "markdown",
   "id": "368a3863",
   "metadata": {},
   "source": [
    "Your answer:\n",
    "\n",
    "~~~\n",
    "Please write your answer in full sentences.\n",
    "\n",
    "\n",
    "~~~\n",
    "\n",
    "(e) Compare the test MSE of boosting to the test MSE that results from applying two of the regression approaches seen in Chapters 3 and 6.\n",
    "\n",
    "Your code:"
   ]
  },
  {
   "cell_type": "code",
   "execution_count": null,
   "id": "006e882c",
   "metadata": {
    "Rmd_chunk_options": "echo=TRUE",
    "kernel": "Python3",
    "tags": [
     "report_cell"
    ]
   },
   "outputs": [],
   "source": [
    "#\n",
    "#"
   ]
  },
  {
   "cell_type": "markdown",
   "id": "45676878",
   "metadata": {},
   "source": [
    "Your answer:\n",
    "\n",
    "~~~\n",
    "Please write your answer in full sentences.\n",
    "\n",
    "\n",
    "~~~\n",
    "\n",
    "(f) Which variables appear to be the most important predictors in the boosted model?\n",
    "\n",
    "Your code:"
   ]
  },
  {
   "cell_type": "code",
   "execution_count": null,
   "id": "e8fce9cc",
   "metadata": {
    "Rmd_chunk_options": "echo=TRUE",
    "kernel": "Python3",
    "tags": [
     "report_cell"
    ]
   },
   "outputs": [],
   "source": [
    "#\n",
    "#"
   ]
  },
  {
   "cell_type": "markdown",
   "id": "04dcbe94",
   "metadata": {},
   "source": [
    "Your answer:\n",
    "\n",
    "~~~\n",
    "Please write your answer in full sentences.\n",
    "\n",
    "\n",
    "~~~\n",
    "\n",
    "(g) Now apply bagging to the training set. What is the test set MSE for this approach?\n",
    "\n",
    "Your code:"
   ]
  },
  {
   "cell_type": "code",
   "execution_count": null,
   "id": "c73b6e57",
   "metadata": {
    "Rmd_chunk_options": "echo=TRUE",
    "kernel": "Python3",
    "tags": [
     "report_cell"
    ]
   },
   "outputs": [],
   "source": [
    "#\n",
    "#"
   ]
  },
  {
   "cell_type": "markdown",
   "id": "6cfe755e",
   "metadata": {},
   "source": [
    "Your answer:\n",
    "\n",
    "~~~\n",
    "Please write your answer in full sentences.\n",
    "\n",
    "\n",
    "~~~"
   ]
  },
  {
   "cell_type": "markdown",
   "id": "9f9e4279",
   "metadata": {},
   "source": [
    "### Caravan\n",
    "\n",
    "This question uses the `Caravan` data set."
   ]
  },
  {
   "cell_type": "code",
   "execution_count": null,
   "id": "42ff0a94",
   "metadata": {
    "kernel": "Python3",
    "tags": [
     "report_cell"
    ]
   },
   "outputs": [],
   "source": [
    "Caravan = load_data(\"Caravan\")"
   ]
  },
  {
   "cell_type": "markdown",
   "id": "6e5ff16a",
   "metadata": {},
   "source": [
    "(a) Create a training set consisting of the first 1,000 observations, and a test set consisting of the remaining observations.\n",
    "\n",
    "Your code:"
   ]
  },
  {
   "cell_type": "code",
   "execution_count": null,
   "id": "a63adff6",
   "metadata": {
    "Rmd_chunk_options": "echo=TRUE",
    "kernel": "Python3",
    "tags": [
     "report_cell"
    ]
   },
   "outputs": [],
   "source": [
    "#\n",
    "#"
   ]
  },
  {
   "cell_type": "markdown",
   "id": "50a4dba8",
   "metadata": {},
   "source": [
    "(b) Fit a boosting model to the training set with `Purchase` as the response and the other variables as predictors. Use 1,000 trees, and a shrinkage value of 0.01. Which predictors appear to be the most important?\n",
    "\n",
    "Your code:"
   ]
  },
  {
   "cell_type": "code",
   "execution_count": null,
   "id": "22a7be6b",
   "metadata": {
    "Rmd_chunk_options": "echo=TRUE",
    "kernel": "Python3",
    "tags": [
     "report_cell"
    ]
   },
   "outputs": [],
   "source": [
    "#\n",
    "#"
   ]
  },
  {
   "cell_type": "markdown",
   "id": "60610372",
   "metadata": {},
   "source": [
    "Your answer:\n",
    "\n",
    "~~~\n",
    "Please write your answer in full sentences.\n",
    "\n",
    "\n",
    "~~~\n",
    "\n",
    "\n",
    "(c) Use the boosting model to predict the response on the test data. Predict that a person will make a purchase if the estimated probability of purchase is greater than 20 %. Form a confusion matrix. What fraction of the people predicted to make a purchase do in fact make one? How does this compare with the results obtained from applying KNN or logistic regression to this data set?\n",
    "\n",
    "Your code:"
   ]
  },
  {
   "cell_type": "code",
   "execution_count": null,
   "id": "0dc8daad",
   "metadata": {
    "Rmd_chunk_options": "echo=TRUE",
    "kernel": "Python3",
    "tags": [
     "report_cell"
    ]
   },
   "outputs": [],
   "source": [
    "#\n",
    "#"
   ]
  },
  {
   "cell_type": "markdown",
   "id": "98f6f5d6",
   "metadata": {},
   "source": [
    "Your answer:\n",
    "\n",
    "~~~\n",
    "Please write your answer in full sentences.\n",
    "\n",
    "\n",
    "~~~"
   ]
  },
  {
   "cell_type": "markdown",
   "id": "adf43ae7",
   "metadata": {},
   "source": [
    "## Additional Material"
   ]
  },
  {
   "cell_type": "markdown",
   "id": "5625c9a0",
   "metadata": {},
   "source": [
    "In this section we will look at other popular tree based methods that are readily available.\n",
    "For classification we will use the [iris dataset](https://scikit-learn.org/stable/auto_examples/datasets/plot_iris_dataset.html) ."
   ]
  },
  {
   "cell_type": "code",
   "execution_count": null,
   "id": "9f7364b1",
   "metadata": {
    "Rmd_chunk_options": "fig.width=12,fig.height=10",
    "kernel": "Python3",
    "tags": [
     "report_cell"
    ]
   },
   "outputs": [],
   "source": [
    "from sklearn import datasets\n",
    "from sklearn.model_selection import train_test_split\n",
    "\n",
    "iris = datasets.load_iris()\n",
    "iris_X=pd.DataFrame(iris.data,columns=iris.feature_names)\n",
    "iris_y=pd.DataFrame(iris.target,columns=['Class'])\n",
    "\n",
    "# split the data\n",
    "X_train0, X_test, y_train0, y_test = train_test_split(iris_X, iris_y, test_size=0.33, random_state=42)\n",
    "trainData = pd.concat([X_train0, y_train0], axis=1)\n",
    "testData  = pd.concat([X_test, y_test], axis=1)"
   ]
  },
  {
   "cell_type": "markdown",
   "id": "10a138e7",
   "metadata": {},
   "source": [
    "### CART graph\n",
    "\n",
    "https://github.com/Sidon/Sidon.github.io/blob/master/_posts/dtree-w1.ipynb"
   ]
  },
  {
   "cell_type": "code",
   "execution_count": null,
   "id": "e670e01d",
   "metadata": {
    "kernel": "Python3",
    "tags": [
     "report_cell"
    ]
   },
   "outputs": [],
   "source": [
    "import matplotlib.pyplot as plt\n",
    "import itertools\n",
    "def plot_confusion_matrix(cm, classes,\n",
    "                          normalize=False,\n",
    "                          title='Confusion matrix',\n",
    "                          cmap=plt.cm.Blues):\n",
    "    \"\"\"\n",
    "    This function prints and plots the confusion matrix.\n",
    "    Normalization can be applied by setting `normalize=True`.\n",
    "    \"\"\"\n",
    "    plt.imshow(cm, interpolation='nearest', cmap=cmap)\n",
    "    plt.title(title)\n",
    "    plt.colorbar()\n",
    "    tick_marks = np.arange(len(classes))\n",
    "    plt.xticks(tick_marks, classes, rotation=45)\n",
    "    plt.yticks(tick_marks, classes)\n",
    "    if normalize:\n",
    "        cm = cm.astype('float') / cm.sum(axis=1)[:, np.newaxis]\n",
    "        print(\"Normalized confusion matrix\")\n",
    "    else:\n",
    "        print('Confusion matrix, without normalization')\n",
    "\n",
    "    print(cm)\n",
    "    thresh = cm.max() / 2.\n",
    "    for i, j in itertools.product(range(cm.shape[0]), range(cm.shape[1])):\n",
    "        plt.text(j, i, cm[i, j],\n",
    "                 horizontalalignment=\"center\",\n",
    "                 color=\"white\" if cm[i, j] > thresh else \"black\")\n",
    "    plt.tight_layout()\n",
    "    plt.ylabel('True')\n",
    "    plt.xlabel('Predicted')"
   ]
  },
  {
   "cell_type": "code",
   "execution_count": null,
   "id": "8b5ea923",
   "metadata": {
    "Rmd_chunk_options": "fig.width=12,fig.height=10",
    "kernel": "Python3",
    "tags": [
     "report_cell"
    ]
   },
   "outputs": [],
   "source": [
    "# Fit CART  Model\n",
    "from sklearn.tree import DecisionTreeClassifier\n",
    "from sklearn import tree\n",
    "from io import StringIO\n",
    "import pydotplus\n",
    "import sklearn\n",
    "import sklearn.metrics\n",
    "from IPython.display import Image\n",
    "out = StringIO()\n",
    "clf = DecisionTreeClassifier()\n",
    "clf = clf.fit(X_train0,y_train0)\n",
    "\n",
    "# you will need to install graphviz\n",
    "tree.export_graphviz(clf, out_file=out, feature_names=iris.feature_names,class_names=['0','1','2'],\n",
    "                     filled=True, rounded=True, special_characters=True)\n",
    "\n",
    "graph=pydotplus.graph_from_dot_data(out.getvalue())\n",
    "Image(graph.create_png())\n",
    "\n",
    "predictions=clf.predict(X_test)\n",
    "confusion_matrix = sklearn.metrics.confusion_matrix(y_test,predictions)\n",
    "plot_confusion_matrix(confusion_matrix,['Setosa','Versicolour','Virginica'])"
   ]
  },
  {
   "cell_type": "markdown",
   "id": "603c86f4",
   "metadata": {},
   "source": [
    "### XGBoost\n",
    "\n",
    "XGBoost became popular due to its success in Kaggle competitions.  It's essentially a gradient boosting but implemented to perform better out of the box.  Some of the nice features include:\n",
    "\n",
    "- Default regularization\n",
    "- Tree growing and pruning scheme allows for multiple cuts\n",
    "- Computational efficiency by parallelization\n",
    "- A couple of default choices to make it easier to use\n",
    "- Handles missing data\n",
    "\n",
    "However, if you want to go deeper, there are some challenges/concerns.\n",
    "\n",
    "- Hyperparameter tuning is hard\n",
    "- Missing data imputation scheme is concerning\n",
    "- Cannot handle categorical variables\n",
    "\n",
    "Here is it used for the iris data."
   ]
  },
  {
   "cell_type": "code",
   "execution_count": null,
   "id": "3db5080f",
   "metadata": {
    "kernel": "Python3",
    "tags": [
     "report_cell"
    ]
   },
   "outputs": [],
   "source": [
    "import xgboost as xgb\n",
    "\n",
    "param = {'max_depth': 2, 'eta': 1, 'objective': 'multi:softmax'}\n",
    "param['nthread'] = 4\n",
    "param['eval_metric'] = 'auc'\n",
    "param['num_class'] = 3\n",
    "\n",
    "num_round = 10\n",
    "\n",
    "dtrain = xgb.DMatrix(X_train0, label=y_train0)\n",
    "dtest = xgb.DMatrix(X_test, label=y_test)\n",
    "evallist = [(dtrain, 'train'), (dtest, 'eval')]\n",
    "bst = xgb.train(param, dtrain, num_round, evallist)\n",
    "ypred = bst.predict(dtest)"
   ]
  },
  {
   "cell_type": "markdown",
   "id": "8b752540",
   "metadata": {},
   "source": [
    "What gets unwieldy is when you start to tune the parameters.\n",
    "Here is the list of parameters used.  Not all of them need tuning, but I hope you understand.\n",
    "\n",
    "- General Parameters that define the overall functionality of XGBoost.\n",
    "  - booster [default=gbtree]: type of model\n",
    "  - silent [default=0]: display log?\n",
    "  - nthread [default to the maximum number of threads available if not set]: number of cores\n",
    "- Learning Task Parameters define the optimization objective and the metric to be calculated at each step.\n",
    "  - objective [default=reg:linear] the loss function to be minimized.\n",
    "  - eval_metric [ default according to objective ] The metric for validation data.\n",
    "  - seed [default=0] The random number seed.\n",
    "- Booster Parameters\n",
    "  - eta [default=0.3]. Analogous to the learning rate in GBM\n",
    "  - min_child_weight [default=1] is the minimum sum of weights of all observations required in a child.\n",
    "  - max_depth [default=6] The maximum depth of a tree, same as GBM.\n",
    "  - max_leaf_nodes  The maximum number of terminal nodes or leaves in a tree.\n",
    "  - gamma [default=0] is the minimum loss reduction required to make a split.\n",
    "  - max_delta_step [default=0]  If it is set to a positive value makes the update step more conservative.\n",
    "  - subsample [default=1] the fraction of observations randomly sampled for each tree.\n",
    "  - colsample_bytree [default=1] is the fraction of columns randomly sampled for each tree.\n",
    "  - colsample_bylevel [default=1] the subsample ratio of columns for each split, in each level.\n",
    "  - lambda [default=1]  L2 regularization term on weights (analogous to Ridge regression)\n",
    "  - alpha [default=0] L1 regularization term on weight (analogous to Lasso regression)\n",
    "  - scale_pos_weight [default=1] >0 for high class imbalance as it helps in faster convergence.\n",
    "\n",
    "Because of this, there is an automatic versiong of xgboost exists. But I was not able to install it on my machine."
   ]
  },
  {
   "cell_type": "code",
   "execution_count": null,
   "id": "93bab0c3",
   "metadata": {
    "Rmd_chunk_options": "eval=FALSE",
    "kernel": "Python3",
    "tags": [
     "report_cell"
    ]
   },
   "outputs": [],
   "source": [
    "#from autoxgb import AutoXGB"
   ]
  },
  {
   "cell_type": "markdown",
   "id": "f552a668",
   "metadata": {},
   "source": [
    "### catboost\n",
    "\n",
    "Catboost is another popular boosting method that in my view popular due to well thought out implementation.\n",
    "The three features that distingishes itself from the other similar models are\n",
    "\n",
    "- Symmetric tree\n",
    "- Ordered Boosting\n",
    "- Categorical Feature Engineering\n",
    "\n",
    "\n",
    " https://catboost.ai/en/docs/concepts/r-usages-examples"
   ]
  },
  {
   "cell_type": "code",
   "execution_count": null,
   "id": "081fd8d5",
   "metadata": {
    "Rmd_chunk_options": "eval=FALSE",
    "kernel": "Python3",
    "tags": [
     "report_cell"
    ]
   },
   "outputs": [],
   "source": [
    "# library(catboost)\n",
    "# # load data\n",
    "# set.seed(1)\n",
    "# idx=sample(1:nrow(iris),nrow(iris)*.7)\n",
    "# train=iris[idx,]\n",
    "# test=iris[-idx,]\n",
    "# fit_control <- caret::trainControl(\n",
    "#   method = \"cv\",\n",
    "#   number = 3,\n",
    "#   search = \"random\",\n",
    "#   classProbs = TRUE\n",
    "# )\n",
    "# # set grid options\n",
    "# grid <- expand.grid(\n",
    "#   depth = c(4, 6, 8),\n",
    "#   learning_rate = 0.1,\n",
    "#   l2_leaf_reg = 0.1,\n",
    "#   rsm = 0.95,\n",
    "#   border_count = 64,\n",
    "#   iterations = 10\n",
    "# )\n",
    "# model <- caret::train(\n",
    "#   x = train[,-5],\n",
    "#   y = train[,5],\n",
    "#   method = catboost.caret,\n",
    "#   metric = \"Accuracy\",\n",
    "#   maximize = TRUE,\n",
    "#   preProc = NULL,\n",
    "#   tuneGrid = grid,\n",
    "#   tuneLength = 30,\n",
    "#   trControl = fit_control\n",
    "# )\n",
    "# table(test$Species,predict(model,test))"
   ]
  },
  {
   "cell_type": "markdown",
   "id": "02ebb07f",
   "metadata": {},
   "source": [
    "### Ensemble model\n",
    "\n",
    "Bagging, Random Forest, and Boosting are examples of ensemble models.\n",
    "The idea is to combine models to get a better result than any individual model can achieve.\n",
    "So far, we’ve combined the same models, but that need not be the case.\n",
    "One way to combine the results is to just average the outcomes from different models.\n",
    "But one need not trust the results from all models equally.\n",
    "An alternative way is to use the predictions as input into a regression model to create weights representing the level of trust in the model.\n",
    "\n",
    "Stacking is easy to implement but even easier if you use caret.\n",
    "For example, if you want to do 10 fold Repeated CV to fit CART, knn, logistic regression,Gaussian Naive Bayes and svc, then combine the results.\n",
    "\n",
    "You can find more details [here](https://machinelearningmastery.com/stacking-ensemble-machine-learning-with-python/)."
   ]
  },
  {
   "cell_type": "code",
   "execution_count": null,
   "id": "a0d28319",
   "metadata": {
    "kernel": "Python3",
    "tags": [
     "report_cell"
    ]
   },
   "outputs": [],
   "source": [
    "# pip install datapackage\n",
    "from datapackage import Package\n",
    "from sklearn.model_selection import RepeatedKFold\n",
    "from sklearn.linear_model import LogisticRegression\n",
    "from sklearn.neighbors import KNeighborsClassifier\n",
    "from sklearn.tree import DecisionTreeClassifier\n",
    "from sklearn.naive_bayes import GaussianNB\n",
    "from sklearn.svm import SVC\n",
    "from sklearn.model_selection import cross_val_score\n",
    "\n",
    "from sklearn.ensemble import StackingClassifier\n",
    "from matplotlib import pyplot\n",
    "\n",
    "package = Package('https://datahub.io/machine-learning/sonar/datapackage.json')\n",
    "resources = package.resources\n",
    "Sonar = pd.read_csv(resources[1].descriptor['path'])\n",
    "\n",
    "Sonar_y=Sonar.loc[:,\"Class\"]\n",
    "Sonar_x=Sonar.drop([\"Class\"], axis=1)\n",
    "\n",
    "level0 = list()\n",
    "level0.append(('lr', LogisticRegression()))\n",
    "level0.append(('knn', KNeighborsClassifier()))\n",
    "level0.append(('cart', DecisionTreeClassifier()))\n",
    "level0.append(('svm', SVC()))\n",
    "level0.append(('bayes', GaussianNB()))\n",
    "# define meta learner model\n",
    "level1 = LogisticRegression()\n",
    "stacking = StackingClassifier(estimators=level0, final_estimator=level1, cv=5)\n",
    "cv = RepeatedKFold(n_splits=10, n_repeats=3)\n",
    "scores = cross_val_score(stacking, Sonar_x, Sonar_y, scoring='accuracy', cv=cv, n_jobs=-1, error_score='raise')"
   ]
  }
 ],
 "metadata": {
  "Rmd_chunk_options": {
   "author": "Masanao Yajima",
   "date": "2023-01-05",
   "output": "html_document",
   "title": "Tree based Ensemble"
  },
  "kernelspec": {
   "display_name": "Python 3 (ipykernel)",
   "language": "python",
   "name": "python3"
  },
  "language_info": {
   "codemirror_mode": {
    "name": "ipython",
    "version": 3
   },
   "file_extension": ".py",
   "mimetype": "text/x-python",
   "name": "python",
   "nbconvert_exporter": "python",
   "pygments_lexer": "ipython3",
   "version": "3.10.9"
  },
  "sos": {
   "kernels": [
    [
     "SoS",
     "sos",
     "",
     ""
    ],
    [
     "R",
     "ir",
     "",
     ""
    ],
    [
     "css",
     "css",
     "",
     ""
    ],
    [
     "Python3",
     "ir",
     "",
     ""
    ]
   ]
  }
 },
 "nbformat": 4,
 "nbformat_minor": 5
}
